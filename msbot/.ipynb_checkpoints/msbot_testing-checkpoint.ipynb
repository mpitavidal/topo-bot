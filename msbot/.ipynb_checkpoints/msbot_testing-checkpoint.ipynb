{
 "cells": [
  {
   "cell_type": "markdown",
   "id": "unauthorized-compound",
   "metadata": {},
   "source": [
    "# Testing pymsteams"
   ]
  },
  {
   "cell_type": "code",
   "execution_count": 37,
   "id": "arbitrary-encyclopedia",
   "metadata": {
    "ExecuteTime": {
     "end_time": "2021-01-25T14:49:16.490574Z",
     "start_time": "2021-01-25T14:49:16.479412Z"
    }
   },
   "outputs": [],
   "source": [
    "import msbot\n",
    "import pymsteams"
   ]
  },
  {
   "cell_type": "code",
   "execution_count": 38,
   "id": "continued-relaxation",
   "metadata": {
    "ExecuteTime": {
     "end_time": "2021-01-25T14:49:16.646409Z",
     "start_time": "2021-01-25T14:49:16.642409Z"
    }
   },
   "outputs": [],
   "source": [
    "# You must create the connectorcard object with the Microsoft Webhook URL\n",
    "address_general = \"https://tud365.webhook.office.com/webhookb2/b30f04eb-e52a-4b70-9920-d9e52953b8ca@096e524d-6929-4030-8cd3-8ab42de0887b/IncomingWebhook/9f828c3733af424a8fdb5875c373b239/e21735a8-e851-494f-99ba-2e0e9cfe3b6d\"\n",
    "address_arxiv = \"https://tud365.webhook.office.com/webhookb2/b30f04eb-e52a-4b70-9920-d9e52953b8ca@096e524d-6929-4030-8cd3-8ab42de0887b/IncomingWebhook/e8044a75137048fcb8eb0d604c097e2e/e21735a8-e851-494f-99ba-2e0e9cfe3b6d\""
   ]
  },
  {
   "cell_type": "code",
   "execution_count": 39,
   "id": "treated-colombia",
   "metadata": {
    "ExecuteTime": {
     "end_time": "2021-01-25T14:49:16.914416Z",
     "start_time": "2021-01-25T14:49:16.910407Z"
    }
   },
   "outputs": [],
   "source": [
    "myTeamsMessage = pymsteams.connectorcard(address_arxiv)\n",
    "# myTeamsMessage.newhookurl(address_general)"
   ]
  },
  {
   "cell_type": "code",
   "execution_count": 40,
   "id": "cordless-fortune",
   "metadata": {
    "ExecuteTime": {
     "end_time": "2021-01-25T14:49:17.186418Z",
     "start_time": "2021-01-25T14:49:17.182403Z"
    }
   },
   "outputs": [],
   "source": [
    "title = \"New cool paper found!!\"\n",
    "text = \"Take a look at this new paper that I found in the arXiv\"\n",
    "button_text = \"Go to paper\"\n",
    "paper_link = \"https://arxiv.org/abs/1910.07978\"\n",
    "color = \"#40E0D0\""
   ]
  },
  {
   "cell_type": "code",
   "execution_count": 41,
   "id": "colonial-satellite",
   "metadata": {
    "ExecuteTime": {
     "end_time": "2021-01-25T14:49:17.476403Z",
     "start_time": "2021-01-25T14:49:17.471400Z"
    }
   },
   "outputs": [],
   "source": [
    "# Add text to the message.\n",
    "myTeamsMessage.title(title)\n",
    "myTeamsMessage.text(text)\n",
    "myTeamsMessage.addLinkButton(button_text, paper_link)\n",
    "myTeamsMessage.addLinkButton(button_text, paper_link)\n",
    "myTeamsMessage.color(color)"
   ]
  },
  {
   "cell_type": "code",
   "execution_count": 42,
   "id": "twelve-drama",
   "metadata": {
    "ExecuteTime": {
     "end_time": "2021-01-25T14:49:17.963136Z",
     "start_time": "2021-01-25T14:49:17.956132Z"
    }
   },
   "outputs": [],
   "source": [
    "# Create a section\n",
    "myMessageSection = pymsteams.cardsection()\n",
    "\n",
    "# Section Title\n",
    "myMessageSection.title(\"First section\")\n",
    "\n",
    "# Section Text\n",
    "myMessageSection.text(\"This is the first section\")\n",
    "\n",
    "# Activity Elements\n",
    "myMessageSection.activityTitle(\"This is Lukas S.\")\n",
    "myMessageSection.activitySubtitle(\"Lukas S. is a PhD candidate in QuTech\")\n",
    "myMessageSection.activityImage(\"https://qutech.nl/wp-content/uploads/2019/09/Lukas-Splitthoff_web-1024x1024.jpg\")\n",
    "myMessageSection.activityText(\"Hello hello, here you got some text. How are you doing today Lukas S.?\")\n",
    "\n",
    "# Section Images\n",
    "myMessageSection.addImage(\"https://media-exp1.licdn.com/dms/image/C4D03AQH10MkwI0NiBQ/profile-displayphoto-shrink_200_200/0/1585856084148?e=1617235200&v=beta&t=tZbyxeyy7Om4pC2ho-VIUh5_p8Q5wXq70G3se3M0qKw\", \n",
    "                          ititle=\"This Alina Kulesh\")\n",
    "\n",
    "# Add your section to the connector card object before sending\n",
    "myTeamsMessage.addSection(myMessageSection)\n",
    "\n",
    "\n",
    "# Create Section 2\n",
    "Section2 = pymsteams.cardsection()\n",
    "Section2.text(\"This is my second section\")\n",
    "\n",
    "# Add Section 2 to the main card object\n",
    "myTeamsMessage.addSection(Section2)"
   ]
  },
  {
   "cell_type": "code",
   "execution_count": 43,
   "id": "sustainable-activity",
   "metadata": {
    "ExecuteTime": {
     "end_time": "2021-01-25T14:49:19.125631Z",
     "start_time": "2021-01-25T14:49:19.118632Z"
    }
   },
   "outputs": [
    {
     "name": "stdout",
     "output_type": "stream",
     "text": [
      "hookurl: https://tud365.webhook.office.com/webhookb2/b30f04eb-e52a-4b70-9920-d9e52953b8ca@096e524d-6929-4030-8cd3-8ab42de0887b/IncomingWebhook/e8044a75137048fcb8eb0d604c097e2e/e21735a8-e851-494f-99ba-2e0e9cfe3b6d\n",
      "payload: {'title': 'New cool paper found!!', 'text': 'Take a look at this new paper that I found in the arXiv', 'potentialAction': [{'@context': 'http://schema.org', '@type': 'ViewAction', 'name': 'Go to paper', 'target': ['https://arxiv.org/abs/1910.07978']}, {'@context': 'http://schema.org', '@type': 'ViewAction', 'name': 'Go to paper', 'target': ['https://arxiv.org/abs/1910.07978']}], 'themeColor': '#40E0D0', 'sections': [{'title': 'First section', 'text': 'This is the first section', 'activityTitle': 'This is Lukas S.', 'activitySubtitle': 'Lukas S. is a PhD candidate in QuTech', 'activityImage': 'https://qutech.nl/wp-content/uploads/2019/09/Lukas-Splitthoff_web-1024x1024.jpg', 'activityText': 'Hello hello, here you got some text. How are you doing today Lukas S.?', 'images': [{'image': 'https://media-exp1.licdn.com/dms/image/C4D03AQH10MkwI0NiBQ/profile-displayphoto-shrink_200_200/0/1585856084148?e=1617235200&v=beta&t=tZbyxeyy7Om4pC2ho-VIUh5_p8Q5wXq70G3se3M0qKw', 'title': 'This Alina Kulesh'}]}, {'text': 'This is my second section'}]}\n"
     ]
    }
   ],
   "source": [
    "myTeamsMessage.printme()"
   ]
  },
  {
   "cell_type": "code",
   "execution_count": 44,
   "id": "adjusted-newport",
   "metadata": {
    "ExecuteTime": {
     "end_time": "2021-01-25T14:49:20.550936Z",
     "start_time": "2021-01-25T14:49:19.871812Z"
    }
   },
   "outputs": [
    {
     "data": {
      "text/plain": [
       "True"
      ]
     },
     "execution_count": 44,
     "metadata": {},
     "output_type": "execute_result"
    }
   ],
   "source": [
    "# send the message.\n",
    "myTeamsMessage.send()"
   ]
  },
  {
   "cell_type": "markdown",
   "id": "assisted-conclusion",
   "metadata": {},
   "source": [
    "# Testing integration with arxiv_majorana_crawler"
   ]
  },
  {
   "cell_type": "code",
   "execution_count": 1,
   "id": "metropolitan-dependence",
   "metadata": {
    "ExecuteTime": {
     "end_time": "2021-01-26T13:53:58.336347Z",
     "start_time": "2021-01-26T13:53:58.031001Z"
    }
   },
   "outputs": [
    {
     "ename": "ModuleNotFoundError",
     "evalue": "No module named 'feedparser'",
     "output_type": "error",
     "traceback": [
      "\u001b[1;31m---------------------------------------------------------------------------\u001b[0m",
      "\u001b[1;31mModuleNotFoundError\u001b[0m                       Traceback (most recent call last)",
      "\u001b[1;32m<ipython-input-1-0be69d35d9b1>\u001b[0m in \u001b[0;36m<module>\u001b[1;34m\u001b[0m\n\u001b[0;32m      2\u001b[0m \u001b[1;32mimport\u001b[0m \u001b[0msys\u001b[0m\u001b[1;33m\u001b[0m\u001b[1;33m\u001b[0m\u001b[0m\n\u001b[0;32m      3\u001b[0m \u001b[0msys\u001b[0m\u001b[1;33m.\u001b[0m\u001b[0mpath\u001b[0m\u001b[1;33m.\u001b[0m\u001b[0mappend\u001b[0m\u001b[1;33m(\u001b[0m\u001b[0mpath_arxiv_crawler\u001b[0m\u001b[1;33m)\u001b[0m\u001b[1;33m\u001b[0m\u001b[1;33m\u001b[0m\u001b[0m\n\u001b[1;32m----> 4\u001b[1;33m \u001b[1;32mfrom\u001b[0m \u001b[0marxiv_majorana_crawler\u001b[0m \u001b[1;32mimport\u001b[0m \u001b[0mfetch_arxiv\u001b[0m\u001b[1;33m\u001b[0m\u001b[1;33m\u001b[0m\u001b[0m\n\u001b[0m",
      "\u001b[1;32m~\\Google Drive\\QuTech\\2021\\ProgrammingCourse\\arxiv_majorana_crawler\\fetch_arxiv.py\u001b[0m in \u001b[0;36m<module>\u001b[1;34m\u001b[0m\n\u001b[0;32m      1\u001b[0m \u001b[1;32mimport\u001b[0m \u001b[0mos\u001b[0m\u001b[1;33m,\u001b[0m \u001b[0msys\u001b[0m\u001b[1;33m,\u001b[0m \u001b[0murllib\u001b[0m\u001b[1;33m,\u001b[0m \u001b[0mplatform\u001b[0m\u001b[1;33m\u001b[0m\u001b[1;33m\u001b[0m\u001b[0m\n\u001b[1;32m----> 2\u001b[1;33m \u001b[1;32mimport\u001b[0m \u001b[0mfeedparser\u001b[0m\u001b[1;33m\u001b[0m\u001b[1;33m\u001b[0m\u001b[0m\n\u001b[0m\u001b[0;32m      3\u001b[0m \u001b[1;32mfrom\u001b[0m \u001b[0mdatetime\u001b[0m \u001b[1;32mimport\u001b[0m \u001b[0mdatetime\u001b[0m\u001b[1;33m\u001b[0m\u001b[1;33m\u001b[0m\u001b[0m\n\u001b[0;32m      4\u001b[0m \u001b[1;32mimport\u001b[0m \u001b[0mdatabase_manipulation\u001b[0m\u001b[1;33m\u001b[0m\u001b[1;33m\u001b[0m\u001b[0m\n\u001b[0;32m      5\u001b[0m \u001b[1;32mimport\u001b[0m \u001b[0mpandas\u001b[0m \u001b[1;32mas\u001b[0m \u001b[0mpd\u001b[0m\u001b[1;33m\u001b[0m\u001b[1;33m\u001b[0m\u001b[0m\n",
      "\u001b[1;31mModuleNotFoundError\u001b[0m: No module named 'feedparser'"
     ]
    }
   ],
   "source": [
    "path_arxiv_crawler = \"../../\"\n",
    "import sys\n",
    "sys.path.append(path_arxiv_crawler)\n",
    "from arxiv_majorana_crawler import fetch_arxiv"
   ]
  },
  {
   "cell_type": "code",
   "execution_count": 9,
   "id": "mobile-pennsylvania",
   "metadata": {
    "ExecuteTime": {
     "end_time": "2021-01-26T13:51:51.709491Z",
     "start_time": "2021-01-26T13:51:49.775169Z"
    }
   },
   "outputs": [],
   "source": [
    "import numpy\n"
   ]
  },
  {
   "cell_type": "code",
   "execution_count": null,
   "id": "alone-century",
   "metadata": {},
   "outputs": [],
   "source": []
  },
  {
   "cell_type": "code",
   "execution_count": null,
   "id": "driven-threshold",
   "metadata": {},
   "outputs": [],
   "source": []
  },
  {
   "cell_type": "code",
   "execution_count": null,
   "id": "sized-coordination",
   "metadata": {},
   "outputs": [],
   "source": []
  },
  {
   "cell_type": "code",
   "execution_count": null,
   "id": "southern-tackle",
   "metadata": {},
   "outputs": [],
   "source": []
  }
 ],
 "metadata": {
  "kernelspec": {
   "display_name": "cqed-env",
   "language": "python",
   "name": "cqed-env"
  },
  "language_info": {
   "codemirror_mode": {
    "name": "ipython",
    "version": 3
   },
   "file_extension": ".py",
   "mimetype": "text/x-python",
   "name": "python",
   "nbconvert_exporter": "python",
   "pygments_lexer": "ipython3",
   "version": "3.8.5"
  },
  "toc": {
   "base_numbering": 1,
   "nav_menu": {},
   "number_sections": true,
   "sideBar": true,
   "skip_h1_title": false,
   "title_cell": "Table of Contents",
   "title_sidebar": "Contents",
   "toc_cell": false,
   "toc_position": {},
   "toc_section_display": true,
   "toc_window_display": false
  }
 },
 "nbformat": 4,
 "nbformat_minor": 5
}
