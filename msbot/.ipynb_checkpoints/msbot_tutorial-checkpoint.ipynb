{
 "cells": [
  {
   "cell_type": "markdown",
   "id": "lucky-dictionary",
   "metadata": {},
   "source": [
    "## Sending information about one relevant paper"
   ]
  },
  {
   "cell_type": "markdown",
   "id": "fifth-basement",
   "metadata": {},
   "source": []
  },
  {
   "cell_type": "code",
   "execution_count": 1,
   "id": "contained-retro",
   "metadata": {
    "ExecuteTime": {
     "end_time": "2021-01-27T11:04:37.429916Z",
     "start_time": "2021-01-27T11:04:36.740610Z"
    }
   },
   "outputs": [],
   "source": [
    "import pandas as pd"
   ]
  },
  {
   "cell_type": "code",
   "execution_count": 2,
   "id": "liable-halifax",
   "metadata": {
    "ExecuteTime": {
     "end_time": "2021-01-27T11:04:37.435712Z",
     "start_time": "2021-01-27T11:04:37.431683Z"
    }
   },
   "outputs": [],
   "source": [
    "# Import database\n",
    "database = '..\\data_lastday.pkl'\n",
    "data_lastday = pd.read_pickle(database)"
   ]
  },
  {
   "cell_type": "code",
   "execution_count": 3,
   "id": "hidden-midwest",
   "metadata": {
    "ExecuteTime": {
     "end_time": "2021-01-27T11:04:39.553860Z",
     "start_time": "2021-01-27T11:04:39.460860Z"
    }
   },
   "outputs": [],
   "source": [
    "import msbot\n",
    "import pymsteams"
   ]
  },
  {
   "cell_type": "code",
   "execution_count": 4,
   "id": "moved-warning",
   "metadata": {
    "ExecuteTime": {
     "end_time": "2021-01-27T11:04:39.766860Z",
     "start_time": "2021-01-27T11:04:39.763867Z"
    }
   },
   "outputs": [],
   "source": [
    "# Define Microsoft Webhook URL\n",
    "address_general = \"https://tud365.webhook.office.com/webhookb2/b30f04eb-e52a-4b70-9920-d9e52953b8ca@096e524d-6929-4030-8cd3-8ab42de0887b/IncomingWebhook/9f828c3733af424a8fdb5875c373b239/e21735a8-e851-494f-99ba-2e0e9cfe3b6d\"\n",
    "address_arxiv = \"https://tud365.webhook.office.com/webhookb2/b30f04eb-e52a-4b70-9920-d9e52953b8ca@096e524d-6929-4030-8cd3-8ab42de0887b/IncomingWebhook/e8044a75137048fcb8eb0d604c097e2e/e21735a8-e851-494f-99ba-2e0e9cfe3b6d\""
   ]
  },
  {
   "cell_type": "code",
   "execution_count": 5,
   "id": "chubby-offering",
   "metadata": {
    "ExecuteTime": {
     "end_time": "2021-01-27T11:04:43.566698Z",
     "start_time": "2021-01-27T11:04:40.421163Z"
    }
   },
   "outputs": [
    {
     "name": "stdout",
     "output_type": "stream",
     "text": [
      "id 2101.10794\n",
      "author_list Juan Carlos Estrada Saldaña, Alexandros Vekris, Luka Pavešič, Peter Krogstrup, Rok Žitko, Kasper Grove-Rasmussen, Jesper Nygård\n",
      "title Bias asymmetric subgap states mimicking Majorana signatures\n",
      "arxiv_primary_category cond-mat.mes-hall\n",
      "published 2021-01-26 14:11:16\n",
      "link http://arxiv.org/abs/2101.10794v1\n"
     ]
    }
   ],
   "source": [
    "n_papers = len(data_lastday[\"title\"])   # Number of papers in the dataframe\n",
    "\n",
    "for i in range(n_papers):\n",
    "    \n",
    "    # Create the connectorcard object with the Microsoft Webhook \n",
    "    message = pymsteams.connectorcard(address_arxiv)\n",
    "    msbot.fill_message(data_lastday, i, message)\n",
    "    message.send()"
   ]
  },
  {
   "cell_type": "code",
   "execution_count": 6,
   "id": "sustained-structure",
   "metadata": {
    "ExecuteTime": {
     "end_time": "2021-01-27T11:05:25.445668Z",
     "start_time": "2021-01-27T11:05:25.436631Z"
    }
   },
   "outputs": [
    {
     "data": {
      "text/plain": [
       "pandas.core.frame.DataFrame"
      ]
     },
     "execution_count": 6,
     "metadata": {},
     "output_type": "execute_result"
    }
   ],
   "source": [
    "type(data_lastday)"
   ]
  },
  {
   "cell_type": "code",
   "execution_count": null,
   "id": "corporate-aurora",
   "metadata": {},
   "outputs": [],
   "source": []
  }
 ],
 "metadata": {
  "kernelspec": {
   "display_name": "cqed-env",
   "language": "python",
   "name": "cqed-env"
  },
  "language_info": {
   "codemirror_mode": {
    "name": "ipython",
    "version": 3
   },
   "file_extension": ".py",
   "mimetype": "text/x-python",
   "name": "python",
   "nbconvert_exporter": "python",
   "pygments_lexer": "ipython3",
   "version": "3.8.5"
  },
  "toc": {
   "base_numbering": 1,
   "nav_menu": {},
   "number_sections": true,
   "sideBar": true,
   "skip_h1_title": false,
   "title_cell": "Table of Contents",
   "title_sidebar": "Contents",
   "toc_cell": false,
   "toc_position": {},
   "toc_section_display": true,
   "toc_window_display": false
  }
 },
 "nbformat": 4,
 "nbformat_minor": 5
}
