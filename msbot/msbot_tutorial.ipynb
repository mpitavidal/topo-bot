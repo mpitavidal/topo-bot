{
 "cells": [
  {
   "cell_type": "markdown",
   "id": "chronic-devil",
   "metadata": {},
   "source": [
    "## Sending information about one relevant paper"
   ]
  },
  {
   "cell_type": "markdown",
   "id": "unique-private",
   "metadata": {},
   "source": []
  },
  {
   "cell_type": "markdown",
   "id": "surgical-matrix",
   "metadata": {},
   "source": [
    "### Find relevant paper from data"
   ]
  },
  {
   "cell_type": "code",
   "execution_count": null,
   "id": "mighty-protection",
   "metadata": {},
   "outputs": [],
   "source": []
  },
  {
   "cell_type": "code",
   "execution_count": 1,
   "id": "conventional-outline",
   "metadata": {
    "ExecuteTime": {
     "end_time": "2021-01-27T07:51:15.778678Z",
     "start_time": "2021-01-27T07:51:15.299095Z"
    },
    "code_folding": []
   },
   "outputs": [],
   "source": [
    "# Import fetch_arxiv\n",
    "path_arxiv_crawler_1 = \"/../\"\n",
    "path_arxiv_crawler_2 = \"/../arxiv_majorana_crawler\"\n",
    "import sys\n",
    "sys.path.append(path_arxiv_crawler_1)\n",
    "sys.path.append(path_arxiv_crawler_2)\n",
    "from arxiv_majorana_crawler import fetch_arxiv"
   ]
  },
  {
   "cell_type": "code",
   "execution_count": 2,
   "id": "israeli-sessions",
   "metadata": {
    "ExecuteTime": {
     "end_time": "2021-01-27T07:51:15.784505Z",
     "start_time": "2021-01-27T07:51:15.780508Z"
    }
   },
   "outputs": [],
   "source": [
    "query_imput = \"search_query_list.txt\""
   ]
  },
  {
   "cell_type": "code",
   "execution_count": 3,
   "id": "initial-montana",
   "metadata": {
    "ExecuteTime": {
     "end_time": "2021-01-27T07:51:16.968229Z",
     "start_time": "2021-01-27T07:51:15.786504Z"
    }
   },
   "outputs": [],
   "source": [
    "result_list = fetch_arxiv.query_arxiv_org(debug_mode=True, query_input=query_imput)"
   ]
  },
  {
   "cell_type": "code",
   "execution_count": 4,
   "id": "concrete-amplifier",
   "metadata": {
    "ExecuteTime": {
     "end_time": "2021-01-27T07:51:16.978238Z",
     "start_time": "2021-01-27T07:51:16.970220Z"
    }
   },
   "outputs": [
    {
     "name": "stdout",
     "output_type": "stream",
     "text": [
      "dict_keys(['id', 'author_list', 'title', 'arxiv_primary_category', 'published', 'link'])\n"
     ]
    }
   ],
   "source": [
    "paper = result_list[0]\n",
    "print(paper.keys())"
   ]
  },
  {
   "cell_type": "markdown",
   "id": "numerous-canberra",
   "metadata": {},
   "source": [
    "### Create link to webhook in Teams"
   ]
  },
  {
   "cell_type": "code",
   "execution_count": 5,
   "id": "improving-clerk",
   "metadata": {
    "ExecuteTime": {
     "end_time": "2021-01-27T07:51:17.086257Z",
     "start_time": "2021-01-27T07:51:16.981223Z"
    }
   },
   "outputs": [],
   "source": [
    "import msbot\n",
    "import pymsteams"
   ]
  },
  {
   "cell_type": "code",
   "execution_count": 6,
   "id": "emerging-reasoning",
   "metadata": {
    "ExecuteTime": {
     "end_time": "2021-01-27T07:51:17.090226Z",
     "start_time": "2021-01-27T07:51:17.087219Z"
    }
   },
   "outputs": [],
   "source": [
    "# Define Microsoft Webhook URL\n",
    "address_general = \"https://tud365.webhook.office.com/webhookb2/b30f04eb-e52a-4b70-9920-d9e52953b8ca@096e524d-6929-4030-8cd3-8ab42de0887b/IncomingWebhook/9f828c3733af424a8fdb5875c373b239/e21735a8-e851-494f-99ba-2e0e9cfe3b6d\"\n",
    "address_arxiv = \"https://tud365.webhook.office.com/webhookb2/b30f04eb-e52a-4b70-9920-d9e52953b8ca@096e524d-6929-4030-8cd3-8ab42de0887b/IncomingWebhook/e8044a75137048fcb8eb0d604c097e2e/e21735a8-e851-494f-99ba-2e0e9cfe3b6d\""
   ]
  },
  {
   "cell_type": "code",
   "execution_count": 7,
   "id": "robust-metadata",
   "metadata": {
    "ExecuteTime": {
     "end_time": "2021-01-27T07:51:17.100221Z",
     "start_time": "2021-01-27T07:51:17.092221Z"
    }
   },
   "outputs": [],
   "source": [
    "# Create the connectorcard object with the Microsoft Webhook \n",
    "message = pymsteams.connectorcard(address_arxiv)"
   ]
  },
  {
   "cell_type": "markdown",
   "id": "narrative-tribune",
   "metadata": {},
   "source": [
    "### Fill in message and send it"
   ]
  },
  {
   "cell_type": "code",
   "execution_count": 8,
   "id": "future-wrist",
   "metadata": {
    "ExecuteTime": {
     "end_time": "2021-01-27T07:51:17.273232Z",
     "start_time": "2021-01-27T07:51:17.270220Z"
    }
   },
   "outputs": [],
   "source": [
    "import msbot"
   ]
  },
  {
   "cell_type": "code",
   "execution_count": 9,
   "id": "public-department",
   "metadata": {
    "ExecuteTime": {
     "end_time": "2021-01-27T07:51:17.495224Z",
     "start_time": "2021-01-27T07:51:17.491232Z"
    }
   },
   "outputs": [],
   "source": [
    "msbot.fill_message(paper, message)"
   ]
  },
  {
   "cell_type": "code",
   "execution_count": 10,
   "id": "loose-hobby",
   "metadata": {
    "ExecuteTime": {
     "end_time": "2021-01-27T07:51:18.470534Z",
     "start_time": "2021-01-27T07:51:17.707219Z"
    }
   },
   "outputs": [
    {
     "data": {
      "text/plain": [
       "True"
      ]
     },
     "execution_count": 10,
     "metadata": {},
     "output_type": "execute_result"
    }
   ],
   "source": [
    "message.send()"
   ]
  },
  {
   "cell_type": "code",
   "execution_count": null,
   "id": "horizontal-kennedy",
   "metadata": {},
   "outputs": [],
   "source": []
  },
  {
   "cell_type": "code",
   "execution_count": null,
   "id": "inside-complaint",
   "metadata": {},
   "outputs": [],
   "source": []
  }
 ],
 "metadata": {
  "kernelspec": {
   "display_name": "cqed-env",
   "language": "python",
   "name": "cqed-env"
  },
  "language_info": {
   "codemirror_mode": {
    "name": "ipython",
    "version": 3
   },
   "file_extension": ".py",
   "mimetype": "text/x-python",
   "name": "python",
   "nbconvert_exporter": "python",
   "pygments_lexer": "ipython3",
   "version": "3.8.5"
  },
  "toc": {
   "base_numbering": 1,
   "nav_menu": {},
   "number_sections": true,
   "sideBar": true,
   "skip_h1_title": false,
   "title_cell": "Table of Contents",
   "title_sidebar": "Contents",
   "toc_cell": false,
   "toc_position": {},
   "toc_section_display": true,
   "toc_window_display": false
  }
 },
 "nbformat": 4,
 "nbformat_minor": 5
}
