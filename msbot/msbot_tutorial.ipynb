{
 "cells": [
  {
   "cell_type": "markdown",
   "id": "organizational-north",
   "metadata": {},
   "source": [
    "## Sending information about one relevant paper"
   ]
  },
  {
   "cell_type": "markdown",
   "id": "similar-collector",
   "metadata": {},
   "source": []
  },
  {
   "cell_type": "markdown",
   "id": "bound-anthropology",
   "metadata": {},
   "source": [
    "### Find relevant paper from data"
   ]
  },
  {
   "cell_type": "code",
   "execution_count": 5,
   "id": "overhead-grass",
   "metadata": {
    "ExecuteTime": {
     "end_time": "2021-01-27T10:49:56.661229Z",
     "start_time": "2021-01-27T10:49:56.658230Z"
    }
   },
   "outputs": [],
   "source": [
    "import pandas as pd"
   ]
  },
  {
   "cell_type": "code",
   "execution_count": 8,
   "id": "negative-newsletter",
   "metadata": {
    "ExecuteTime": {
     "end_time": "2021-01-27T10:50:04.083156Z",
     "start_time": "2021-01-27T10:50:04.078157Z"
    }
   },
   "outputs": [],
   "source": [
    "# Import database\n",
    "database = '..\\data_lastday.pkl'\n",
    "data_lastday = pd.read_pickle(database)"
   ]
  },
  {
   "cell_type": "code",
   "execution_count": 10,
   "id": "amber-amsterdam",
   "metadata": {
    "ExecuteTime": {
     "end_time": "2021-01-27T10:50:08.200048Z",
     "start_time": "2021-01-27T10:50:08.189064Z"
    }
   },
   "outputs": [
    {
     "data": {
      "text/plain": [
       "{'id': {0: '2101.10794'},\n",
       " 'author_list': {0: 'Juan Carlos Estrada Saldaña, Alexandros Vekris, Luka Pavešič, Peter Krogstrup, Rok Žitko, Kasper Grove-Rasmussen, Jesper Nygård'},\n",
       " 'title': {0: 'Bias asymmetric subgap states mimicking Majorana signatures'},\n",
       " 'arxiv_primary_category': {0: 'cond-mat.mes-hall'},\n",
       " 'published': {0: Timestamp('2021-01-26 14:11:16')},\n",
       " 'link': {0: 'http://arxiv.org/abs/2101.10794v1'}}"
      ]
     },
     "execution_count": 10,
     "metadata": {},
     "output_type": "execute_result"
    }
   ],
   "source": [
    "data_lastday"
   ]
  },
  {
   "cell_type": "code",
   "execution_count": 4,
   "id": "rural-calculator",
   "metadata": {
    "ExecuteTime": {
     "end_time": "2021-01-27T07:51:16.978238Z",
     "start_time": "2021-01-27T07:51:16.970220Z"
    }
   },
   "outputs": [
    {
     "name": "stdout",
     "output_type": "stream",
     "text": [
      "dict_keys(['id', 'author_list', 'title', 'arxiv_primary_category', 'published', 'link'])\n"
     ]
    }
   ],
   "source": [
    "paper = result_list[0]\n",
    "print(paper.keys())"
   ]
  },
  {
   "cell_type": "markdown",
   "id": "likely-washer",
   "metadata": {},
   "source": [
    "### Create link to webhook in Teams"
   ]
  },
  {
   "cell_type": "code",
   "execution_count": 5,
   "id": "analyzed-federation",
   "metadata": {
    "ExecuteTime": {
     "end_time": "2021-01-27T07:51:17.086257Z",
     "start_time": "2021-01-27T07:51:16.981223Z"
    }
   },
   "outputs": [],
   "source": [
    "import msbot\n",
    "import pymsteams"
   ]
  },
  {
   "cell_type": "code",
   "execution_count": 6,
   "id": "recreational-anger",
   "metadata": {
    "ExecuteTime": {
     "end_time": "2021-01-27T07:51:17.090226Z",
     "start_time": "2021-01-27T07:51:17.087219Z"
    }
   },
   "outputs": [],
   "source": [
    "# Define Microsoft Webhook URL\n",
    "address_general = \"https://tud365.webhook.office.com/webhookb2/b30f04eb-e52a-4b70-9920-d9e52953b8ca@096e524d-6929-4030-8cd3-8ab42de0887b/IncomingWebhook/9f828c3733af424a8fdb5875c373b239/e21735a8-e851-494f-99ba-2e0e9cfe3b6d\"\n",
    "address_arxiv = \"https://tud365.webhook.office.com/webhookb2/b30f04eb-e52a-4b70-9920-d9e52953b8ca@096e524d-6929-4030-8cd3-8ab42de0887b/IncomingWebhook/e8044a75137048fcb8eb0d604c097e2e/e21735a8-e851-494f-99ba-2e0e9cfe3b6d\""
   ]
  },
  {
   "cell_type": "code",
   "execution_count": 7,
   "id": "mechanical-glasgow",
   "metadata": {
    "ExecuteTime": {
     "end_time": "2021-01-27T07:51:17.100221Z",
     "start_time": "2021-01-27T07:51:17.092221Z"
    }
   },
   "outputs": [],
   "source": [
    "# Create the connectorcard object with the Microsoft Webhook \n",
    "message = pymsteams.connectorcard(address_arxiv)"
   ]
  },
  {
   "cell_type": "markdown",
   "id": "surprising-indiana",
   "metadata": {},
   "source": [
    "### Fill in message and send it"
   ]
  },
  {
   "cell_type": "code",
   "execution_count": 8,
   "id": "parliamentary-grove",
   "metadata": {
    "ExecuteTime": {
     "end_time": "2021-01-27T07:51:17.273232Z",
     "start_time": "2021-01-27T07:51:17.270220Z"
    }
   },
   "outputs": [],
   "source": [
    "import msbot"
   ]
  },
  {
   "cell_type": "code",
   "execution_count": 9,
   "id": "administrative-fourth",
   "metadata": {
    "ExecuteTime": {
     "end_time": "2021-01-27T07:51:17.495224Z",
     "start_time": "2021-01-27T07:51:17.491232Z"
    }
   },
   "outputs": [],
   "source": [
    "msbot.fill_message(paper, message)"
   ]
  },
  {
   "cell_type": "code",
   "execution_count": 10,
   "id": "incident-majority",
   "metadata": {
    "ExecuteTime": {
     "end_time": "2021-01-27T07:51:18.470534Z",
     "start_time": "2021-01-27T07:51:17.707219Z"
    }
   },
   "outputs": [
    {
     "data": {
      "text/plain": [
       "True"
      ]
     },
     "execution_count": 10,
     "metadata": {},
     "output_type": "execute_result"
    }
   ],
   "source": [
    "message.send()"
   ]
  },
  {
   "cell_type": "code",
   "execution_count": null,
   "id": "center-conditions",
   "metadata": {},
   "outputs": [],
   "source": []
  },
  {
   "cell_type": "code",
   "execution_count": null,
   "id": "treated-sauce",
   "metadata": {},
   "outputs": [],
   "source": []
  }
 ],
 "metadata": {
  "kernelspec": {
   "display_name": "cqed-env",
   "language": "python",
   "name": "cqed-env"
  },
  "language_info": {
   "codemirror_mode": {
    "name": "ipython",
    "version": 3
   },
   "file_extension": ".py",
   "mimetype": "text/x-python",
   "name": "python",
   "nbconvert_exporter": "python",
   "pygments_lexer": "ipython3",
   "version": "3.8.5"
  },
  "toc": {
   "base_numbering": 1,
   "nav_menu": {},
   "number_sections": true,
   "sideBar": true,
   "skip_h1_title": false,
   "title_cell": "Table of Contents",
   "title_sidebar": "Contents",
   "toc_cell": false,
   "toc_position": {},
   "toc_section_display": true,
   "toc_window_display": false
  }
 },
 "nbformat": 4,
 "nbformat_minor": 5
}
