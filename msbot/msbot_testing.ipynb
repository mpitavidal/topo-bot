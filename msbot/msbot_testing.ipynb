{
 "cells": [
  {
   "cell_type": "code",
   "execution_count": 29,
   "id": "foreign-reasoning",
   "metadata": {
    "ExecuteTime": {
     "end_time": "2021-01-25T14:23:56.049155Z",
     "start_time": "2021-01-25T14:23:56.045103Z"
    }
   },
   "outputs": [],
   "source": [
    "import numpy as np\n",
    "\n",
    "import msbot\n",
    "import pymsteams"
   ]
  },
  {
   "cell_type": "code",
   "execution_count": 30,
   "id": "difficult-caribbean",
   "metadata": {
    "ExecuteTime": {
     "end_time": "2021-01-25T14:23:56.238264Z",
     "start_time": "2021-01-25T14:23:56.235219Z"
    }
   },
   "outputs": [],
   "source": [
    "# You must create the connectorcard object with the Microsoft Webhook URL\n",
    "address_general = \"https://tud365.webhook.office.com/webhookb2/b30f04eb-e52a-4b70-9920-d9e52953b8ca@096e524d-6929-4030-8cd3-8ab42de0887b/IncomingWebhook/9f828c3733af424a8fdb5875c373b239/e21735a8-e851-494f-99ba-2e0e9cfe3b6d\"\n",
    "address_arxiv = \"https://tud365.webhook.office.com/webhookb2/b30f04eb-e52a-4b70-9920-d9e52953b8ca@096e524d-6929-4030-8cd3-8ab42de0887b/IncomingWebhook/e8044a75137048fcb8eb0d604c097e2e/e21735a8-e851-494f-99ba-2e0e9cfe3b6d\""
   ]
  },
  {
   "cell_type": "code",
   "execution_count": 31,
   "id": "recent-chile",
   "metadata": {
    "ExecuteTime": {
     "end_time": "2021-01-25T14:23:56.443635Z",
     "start_time": "2021-01-25T14:23:56.440647Z"
    }
   },
   "outputs": [],
   "source": [
    "myTeamsMessage = pymsteams.connectorcard(address_arxiv)\n",
    "# myTeamsMessage.newhookurl(address_general)"
   ]
  },
  {
   "cell_type": "code",
   "execution_count": 32,
   "id": "gentle-overall",
   "metadata": {
    "ExecuteTime": {
     "end_time": "2021-01-25T14:23:56.670108Z",
     "start_time": "2021-01-25T14:23:56.666112Z"
    }
   },
   "outputs": [],
   "source": [
    "title = \"New cool paper found!!\"\n",
    "text = \"Take a look at this new paper that I found in the arXiv\"\n",
    "button_text = \"Go to paper\"\n",
    "paper_link = \"https://arxiv.org/abs/1910.07978\"\n",
    "color = \"#40E0D0\""
   ]
  },
  {
   "cell_type": "code",
   "execution_count": 33,
   "id": "curious-settle",
   "metadata": {
    "ExecuteTime": {
     "end_time": "2021-01-25T14:23:56.877107Z",
     "start_time": "2021-01-25T14:23:56.873112Z"
    }
   },
   "outputs": [],
   "source": [
    "# Add text to the message.\n",
    "myTeamsMessage.title(title)\n",
    "myTeamsMessage.text(text)\n",
    "myTeamsMessage.addLinkButton(button_text, paper_link)\n",
    "myTeamsMessage.color(color)"
   ]
  },
  {
   "cell_type": "code",
   "execution_count": 34,
   "id": "structural-press",
   "metadata": {
    "ExecuteTime": {
     "end_time": "2021-01-25T14:23:57.198112Z",
     "start_time": "2021-01-25T14:23:57.194108Z"
    }
   },
   "outputs": [],
   "source": [
    "# Create a section\n",
    "myMessageSection = pymsteams.cardsection()\n",
    "\n",
    "# Section Title\n",
    "myMessageSection.title(\"Section title\")\n",
    "\n",
    "# Activity Elements\n",
    "myMessageSection.activityTitle(\"my activity title\")\n",
    "myMessageSection.activitySubtitle(\"my activity subtitle\")\n",
    "myMessageSection.activityImage(\"http://i.imgur.com/c4jt321l.png\")\n",
    "myMessageSection.activityText(\"This is my activity Text\")\n",
    "\n",
    "# Facts are key value pairs displayed in a list.\n",
    "myMessageSection.addFact(\"this\", \"is fine\")\n",
    "myMessageSection.addFact(\"this is\", \"also fine\")\n",
    "\n",
    "# Section Text\n",
    "myMessageSection.text(\"This is my section text\")\n",
    "\n",
    "# Section Images\n",
    "myMessageSection.addImage(\"http://i.imgur.com/c4jt321l.png\", ititle=\"This Is Fine\")\n",
    "\n",
    "# Add your section to the connector card object before sending\n",
    "myTeamsMessage.addSection(myMessageSection)\n",
    "\n",
    "\n",
    "# Create Section 2\n",
    "Section2 = pymsteams.cardsection()\n",
    "Section2.text(\"My Second Section\")\n",
    "\n",
    "# Add Section 2 to the main card object\n",
    "myTeamsMessage.addSection(Section2)"
   ]
  },
  {
   "cell_type": "code",
   "execution_count": null,
   "id": "spiritual-engine",
   "metadata": {},
   "outputs": [],
   "source": []
  },
  {
   "cell_type": "code",
   "execution_count": 35,
   "id": "several-weather",
   "metadata": {
    "ExecuteTime": {
     "end_time": "2021-01-25T14:23:58.559974Z",
     "start_time": "2021-01-25T14:23:58.553962Z"
    }
   },
   "outputs": [
    {
     "name": "stdout",
     "output_type": "stream",
     "text": [
      "hookurl: https://tud365.webhook.office.com/webhookb2/b30f04eb-e52a-4b70-9920-d9e52953b8ca@096e524d-6929-4030-8cd3-8ab42de0887b/IncomingWebhook/e8044a75137048fcb8eb0d604c097e2e/e21735a8-e851-494f-99ba-2e0e9cfe3b6d\n",
      "payload: {'title': 'New cool paper found!!', 'text': 'Take a look at this new paper that I found in the arXiv', 'potentialAction': [{'@context': 'http://schema.org', '@type': 'ViewAction', 'name': 'Go to paper', 'target': ['https://arxiv.org/abs/1910.07978']}], 'themeColor': '#40E0D0', 'sections': [{'title': 'Section title', 'activityTitle': 'my activity title', 'activitySubtitle': 'my activity subtitle', 'activityImage': 'http://i.imgur.com/c4jt321l.png', 'activityText': 'This is my activity Text', 'facts': [{'name': 'this', 'value': 'is fine'}, {'name': 'this is', 'value': 'also fine'}], 'text': 'This is my section text', 'images': [{'image': 'http://i.imgur.com/c4jt321l.png', 'title': 'This Is Fine'}]}, {'text': 'My Second Section'}]}\n"
     ]
    }
   ],
   "source": [
    "myTeamsMessage.printme()"
   ]
  },
  {
   "cell_type": "code",
   "execution_count": 36,
   "id": "banner-jonathan",
   "metadata": {
    "ExecuteTime": {
     "end_time": "2021-01-25T14:24:02.552087Z",
     "start_time": "2021-01-25T14:23:59.083189Z"
    }
   },
   "outputs": [
    {
     "data": {
      "text/plain": [
       "True"
      ]
     },
     "execution_count": 36,
     "metadata": {},
     "output_type": "execute_result"
    }
   ],
   "source": [
    "# send the message.\n",
    "myTeamsMessage.send()"
   ]
  },
  {
   "cell_type": "code",
   "execution_count": null,
   "id": "furnished-bacon",
   "metadata": {},
   "outputs": [],
   "source": []
  },
  {
   "cell_type": "code",
   "execution_count": null,
   "id": "continent-thunder",
   "metadata": {},
   "outputs": [],
   "source": []
  },
  {
   "cell_type": "code",
   "execution_count": null,
   "id": "general-regard",
   "metadata": {},
   "outputs": [],
   "source": []
  }
 ],
 "metadata": {
  "kernelspec": {
   "display_name": "cqed-env",
   "language": "python",
   "name": "cqed-env"
  },
  "language_info": {
   "codemirror_mode": {
    "name": "ipython",
    "version": 3
   },
   "file_extension": ".py",
   "mimetype": "text/x-python",
   "name": "python",
   "nbconvert_exporter": "python",
   "pygments_lexer": "ipython3",
   "version": "3.8.5"
  },
  "toc": {
   "base_numbering": 1,
   "nav_menu": {},
   "number_sections": true,
   "sideBar": true,
   "skip_h1_title": false,
   "title_cell": "Table of Contents",
   "title_sidebar": "Contents",
   "toc_cell": false,
   "toc_position": {},
   "toc_section_display": true,
   "toc_window_display": false
  }
 },
 "nbformat": 4,
 "nbformat_minor": 5
}
