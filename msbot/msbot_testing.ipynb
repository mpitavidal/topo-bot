{
 "cells": [
  {
   "cell_type": "markdown",
   "id": "endless-intake",
   "metadata": {
    "heading_collapsed": true
   },
   "source": [
    "# Testing pymsteams"
   ]
  },
  {
   "cell_type": "code",
   "execution_count": 1,
   "id": "wired-cleveland",
   "metadata": {
    "ExecuteTime": {
     "end_time": "2021-01-26T13:54:14.205738Z",
     "start_time": "2021-01-26T13:54:13.884665Z"
    },
    "hidden": true
   },
   "outputs": [],
   "source": [
    "import msbot\n",
    "import pymsteams"
   ]
  },
  {
   "cell_type": "code",
   "execution_count": 2,
   "id": "expected-elements",
   "metadata": {
    "ExecuteTime": {
     "end_time": "2021-01-26T13:54:14.212556Z",
     "start_time": "2021-01-26T13:54:14.208596Z"
    },
    "hidden": true
   },
   "outputs": [],
   "source": [
    "# You must create the connectorcard object with the Microsoft Webhook URL\n",
    "address_general = \"https://tud365.webhook.office.com/webhookb2/b30f04eb-e52a-4b70-9920-d9e52953b8ca@096e524d-6929-4030-8cd3-8ab42de0887b/IncomingWebhook/9f828c3733af424a8fdb5875c373b239/e21735a8-e851-494f-99ba-2e0e9cfe3b6d\"\n",
    "address_arxiv = \"https://tud365.webhook.office.com/webhookb2/b30f04eb-e52a-4b70-9920-d9e52953b8ca@096e524d-6929-4030-8cd3-8ab42de0887b/IncomingWebhook/e8044a75137048fcb8eb0d604c097e2e/e21735a8-e851-494f-99ba-2e0e9cfe3b6d\""
   ]
  },
  {
   "cell_type": "code",
   "execution_count": 3,
   "id": "adopted-utility",
   "metadata": {
    "ExecuteTime": {
     "end_time": "2021-01-26T13:54:14.417561Z",
     "start_time": "2021-01-26T13:54:14.413563Z"
    },
    "hidden": true
   },
   "outputs": [],
   "source": [
    "myTeamsMessage = pymsteams.connectorcard(address_arxiv)\n",
    "# myTeamsMessage.newhookurl(address_general)"
   ]
  },
  {
   "cell_type": "code",
   "execution_count": 4,
   "id": "corrected-bible",
   "metadata": {
    "ExecuteTime": {
     "end_time": "2021-01-26T13:54:14.829562Z",
     "start_time": "2021-01-26T13:54:14.825559Z"
    },
    "hidden": true
   },
   "outputs": [],
   "source": [
    "title = \"New cool paper found!!\"\n",
    "text = \"Take a look at this new paper that I found in the arXiv\"\n",
    "button_text = \"Go to paper\"\n",
    "paper_link = \"https://arxiv.org/abs/1910.07978\"\n",
    "color = \"#40E0D0\""
   ]
  },
  {
   "cell_type": "code",
   "execution_count": 5,
   "id": "unique-christmas",
   "metadata": {
    "ExecuteTime": {
     "end_time": "2021-01-26T13:54:15.232495Z",
     "start_time": "2021-01-26T13:54:15.228494Z"
    },
    "hidden": true
   },
   "outputs": [],
   "source": [
    "# Add text to the message.\n",
    "myTeamsMessage.title(title)\n",
    "myTeamsMessage.text(text)\n",
    "myTeamsMessage.addLinkButton(button_text, paper_link)\n",
    "myTeamsMessage.addLinkButton(button_text, paper_link)\n",
    "myTeamsMessage.color(color)"
   ]
  },
  {
   "cell_type": "code",
   "execution_count": 6,
   "id": "senior-tuner",
   "metadata": {
    "ExecuteTime": {
     "end_time": "2021-01-26T13:54:15.742899Z",
     "start_time": "2021-01-26T13:54:15.737897Z"
    },
    "hidden": true
   },
   "outputs": [],
   "source": [
    "# Create a section\n",
    "myMessageSection = pymsteams.cardsection()\n",
    "\n",
    "# Section Title\n",
    "myMessageSection.title(\"First section\")\n",
    "\n",
    "# Section Text\n",
    "myMessageSection.text(\"This is the first section\")\n",
    "\n",
    "# Activity Elements\n",
    "myMessageSection.activityTitle(\"This is Lukas S.\")\n",
    "myMessageSection.activitySubtitle(\"Lukas S. is a PhD candidate in QuTech\")\n",
    "myMessageSection.activityImage(\"https://qutech.nl/wp-content/uploads/2019/09/Lukas-Splitthoff_web-1024x1024.jpg\")\n",
    "myMessageSection.activityText(\"Hello hello, here you got some text. How are you doing today Lukas S.?\")\n",
    "\n",
    "# Section Images\n",
    "myMessageSection.addImage(\"https://media-exp1.licdn.com/dms/image/C4D03AQH10MkwI0NiBQ/profile-displayphoto-shrink_200_200/0/1585856084148?e=1617235200&v=beta&t=tZbyxeyy7Om4pC2ho-VIUh5_p8Q5wXq70G3se3M0qKw\", \n",
    "                          ititle=\"This Alina Kulesh\")\n",
    "\n",
    "# Add your section to the connector card object before sending\n",
    "myTeamsMessage.addSection(myMessageSection)\n",
    "\n",
    "\n",
    "# Create Section 2\n",
    "Section2 = pymsteams.cardsection()\n",
    "Section2.text(\"This is my second section\")\n",
    "\n",
    "# Add Section 2 to the main card object\n",
    "myTeamsMessage.addSection(Section2)"
   ]
  },
  {
   "cell_type": "code",
   "execution_count": 7,
   "id": "clean-breeding",
   "metadata": {
    "ExecuteTime": {
     "end_time": "2021-01-26T13:54:16.325793Z",
     "start_time": "2021-01-26T13:54:16.317793Z"
    },
    "hidden": true
   },
   "outputs": [
    {
     "name": "stdout",
     "output_type": "stream",
     "text": [
      "hookurl: https://tud365.webhook.office.com/webhookb2/b30f04eb-e52a-4b70-9920-d9e52953b8ca@096e524d-6929-4030-8cd3-8ab42de0887b/IncomingWebhook/e8044a75137048fcb8eb0d604c097e2e/e21735a8-e851-494f-99ba-2e0e9cfe3b6d\n",
      "payload: {'title': 'New cool paper found!!', 'text': 'Take a look at this new paper that I found in the arXiv', 'potentialAction': [{'@context': 'http://schema.org', '@type': 'ViewAction', 'name': 'Go to paper', 'target': ['https://arxiv.org/abs/1910.07978']}, {'@context': 'http://schema.org', '@type': 'ViewAction', 'name': 'Go to paper', 'target': ['https://arxiv.org/abs/1910.07978']}], 'themeColor': '#40E0D0', 'sections': [{'title': 'First section', 'text': 'This is the first section', 'activityTitle': 'This is Lukas S.', 'activitySubtitle': 'Lukas S. is a PhD candidate in QuTech', 'activityImage': 'https://qutech.nl/wp-content/uploads/2019/09/Lukas-Splitthoff_web-1024x1024.jpg', 'activityText': 'Hello hello, here you got some text. How are you doing today Lukas S.?', 'images': [{'image': 'https://media-exp1.licdn.com/dms/image/C4D03AQH10MkwI0NiBQ/profile-displayphoto-shrink_200_200/0/1585856084148?e=1617235200&v=beta&t=tZbyxeyy7Om4pC2ho-VIUh5_p8Q5wXq70G3se3M0qKw', 'title': 'This Alina Kulesh'}]}, {'text': 'This is my second section'}]}\n"
     ]
    }
   ],
   "source": [
    "myTeamsMessage.printme()"
   ]
  },
  {
   "cell_type": "code",
   "execution_count": 8,
   "id": "extra-russell",
   "metadata": {
    "ExecuteTime": {
     "end_time": "2021-01-26T13:54:17.989903Z",
     "start_time": "2021-01-26T13:54:16.566509Z"
    },
    "hidden": true
   },
   "outputs": [
    {
     "data": {
      "text/plain": [
       "True"
      ]
     },
     "execution_count": 8,
     "metadata": {},
     "output_type": "execute_result"
    }
   ],
   "source": [
    "# send the message.\n",
    "myTeamsMessage.send()"
   ]
  },
  {
   "cell_type": "markdown",
   "id": "early-seeker",
   "metadata": {},
   "source": [
    "# Testing integration with arxiv_majorana_crawler"
   ]
  },
  {
   "cell_type": "code",
   "execution_count": 8,
   "id": "successful-citizenship",
   "metadata": {
    "ExecuteTime": {
     "end_time": "2021-01-27T07:43:09.223705Z",
     "start_time": "2021-01-27T07:43:05.557501Z"
    },
    "code_folding": []
   },
   "outputs": [],
   "source": [
    "# Import fetch_arxiv\n",
    "path_arxiv_crawler_1 = \"../../\"\n",
    "path_arxiv_crawler_2 = \"../../arxiv_majorana_crawler\"\n",
    "import sys\n",
    "sys.path.append(path_arxiv_crawler_1)\n",
    "sys.path.append(path_arxiv_crawler_2)\n",
    "from arxiv_majorana_crawler import fetch_arxiv"
   ]
  },
  {
   "cell_type": "code",
   "execution_count": 9,
   "id": "cubic-plymouth",
   "metadata": {
    "ExecuteTime": {
     "end_time": "2021-01-27T07:43:09.228457Z",
     "start_time": "2021-01-27T07:43:09.225451Z"
    }
   },
   "outputs": [],
   "source": [
    "query_imput = \"../search_query_list.txt\""
   ]
  },
  {
   "cell_type": "code",
   "execution_count": 10,
   "id": "random-trail",
   "metadata": {
    "ExecuteTime": {
     "end_time": "2021-01-27T07:43:10.528240Z",
     "start_time": "2021-01-27T07:43:09.231455Z"
    }
   },
   "outputs": [],
   "source": [
    "result_list = fetch_arxiv.query_arxiv_org(debug_mode=True, query_input=query_imput)"
   ]
  },
  {
   "cell_type": "code",
   "execution_count": 11,
   "id": "knowing-sport",
   "metadata": {
    "ExecuteTime": {
     "end_time": "2021-01-27T07:43:10.535022Z",
     "start_time": "2021-01-27T07:43:10.530005Z"
    }
   },
   "outputs": [
    {
     "name": "stdout",
     "output_type": "stream",
     "text": [
      "{'id': '2101.10794', 'author_list': 'Juan Carlos Estrada Saldaña, Alexandros Vekris, Luka Pavešič, Peter Krogstrup, Rok Žitko, Kasper Grove-Rasmussen, Jesper Nygård', 'title': 'Bias asymmetric subgap states mimicking Majorana signatures', 'arxiv_primary_category': 'cond-mat.mes-hall', 'published': '2021-01-26 14:11:16', 'link': 'http://arxiv.org/abs/2101.10794v1'}\n"
     ]
    }
   ],
   "source": [
    "paper = result_list[0]\n",
    "print(paper)"
   ]
  },
  {
   "cell_type": "markdown",
   "id": "disturbed-karaoke",
   "metadata": {},
   "source": [
    "# Making relevant functions"
   ]
  },
  {
   "cell_type": "code",
   "execution_count": 1,
   "id": "complex-mozambique",
   "metadata": {
    "ExecuteTime": {
     "end_time": "2021-01-27T07:34:00.584851Z",
     "start_time": "2021-01-27T07:33:58.449867Z"
    }
   },
   "outputs": [],
   "source": [
    "import msbot\n",
    "import pymsteams"
   ]
  },
  {
   "cell_type": "code",
   "execution_count": 2,
   "id": "artistic-context",
   "metadata": {
    "ExecuteTime": {
     "end_time": "2021-01-27T07:34:00.588689Z",
     "start_time": "2021-01-27T07:34:00.585689Z"
    }
   },
   "outputs": [],
   "source": [
    "# You must create the connectorcard object with the Microsoft Webhook URL\n",
    "address_general = \"https://tud365.webhook.office.com/webhookb2/b30f04eb-e52a-4b70-9920-d9e52953b8ca@096e524d-6929-4030-8cd3-8ab42de0887b/IncomingWebhook/9f828c3733af424a8fdb5875c373b239/e21735a8-e851-494f-99ba-2e0e9cfe3b6d\"\n",
    "address_arxiv = \"https://tud365.webhook.office.com/webhookb2/b30f04eb-e52a-4b70-9920-d9e52953b8ca@096e524d-6929-4030-8cd3-8ab42de0887b/IncomingWebhook/e8044a75137048fcb8eb0d604c097e2e/e21735a8-e851-494f-99ba-2e0e9cfe3b6d\""
   ]
  },
  {
   "cell_type": "code",
   "execution_count": 12,
   "id": "blind-cambodia",
   "metadata": {
    "ExecuteTime": {
     "end_time": "2021-01-27T07:43:10.545024Z",
     "start_time": "2021-01-27T07:43:10.537007Z"
    },
    "code_folding": []
   },
   "outputs": [
    {
     "data": {
      "text/plain": [
       "dict"
      ]
     },
     "execution_count": 12,
     "metadata": {},
     "output_type": "execute_result"
    }
   ],
   "source": [
    "type(paper)"
   ]
  },
  {
   "cell_type": "code",
   "execution_count": 3,
   "id": "alike-plaza",
   "metadata": {
    "ExecuteTime": {
     "end_time": "2021-01-27T07:34:00.596699Z",
     "start_time": "2021-01-27T07:34:00.590692Z"
    }
   },
   "outputs": [],
   "source": [
    "message = pymsteams.connectorcard(address_arxiv)"
   ]
  },
  {
   "cell_type": "code",
   "execution_count": 5,
   "id": "later-painting",
   "metadata": {
    "ExecuteTime": {
     "end_time": "2021-01-27T07:34:12.653755Z",
     "start_time": "2021-01-27T07:34:12.642721Z"
    }
   },
   "outputs": [
    {
     "data": {
      "text/plain": [
       "pymsteams.connectorcard"
      ]
     },
     "execution_count": 5,
     "metadata": {},
     "output_type": "execute_result"
    }
   ],
   "source": [
    "type(message)"
   ]
  },
  {
   "cell_type": "code",
   "execution_count": 60,
   "id": "modified-treasury",
   "metadata": {
    "ExecuteTime": {
     "end_time": "2021-01-26T14:30:09.563908Z",
     "start_time": "2021-01-26T14:30:09.559905Z"
    }
   },
   "outputs": [],
   "source": [
    "fill_message(paper, message)"
   ]
  },
  {
   "cell_type": "code",
   "execution_count": 61,
   "id": "endless-likelihood",
   "metadata": {
    "ExecuteTime": {
     "end_time": "2021-01-26T14:30:10.685752Z",
     "start_time": "2021-01-26T14:30:09.970794Z"
    }
   },
   "outputs": [
    {
     "data": {
      "text/plain": [
       "True"
      ]
     },
     "execution_count": 61,
     "metadata": {},
     "output_type": "execute_result"
    }
   ],
   "source": [
    "message.send()"
   ]
  },
  {
   "cell_type": "code",
   "execution_count": null,
   "id": "liberal-cliff",
   "metadata": {},
   "outputs": [],
   "source": []
  },
  {
   "cell_type": "code",
   "execution_count": null,
   "id": "foreign-brisbane",
   "metadata": {},
   "outputs": [],
   "source": []
  }
 ],
 "metadata": {
  "kernelspec": {
   "display_name": "cqed-env",
   "language": "python",
   "name": "cqed-env"
  },
  "language_info": {
   "codemirror_mode": {
    "name": "ipython",
    "version": 3
   },
   "file_extension": ".py",
   "mimetype": "text/x-python",
   "name": "python",
   "nbconvert_exporter": "python",
   "pygments_lexer": "ipython3",
   "version": "3.8.5"
  },
  "toc": {
   "base_numbering": 1,
   "nav_menu": {},
   "number_sections": true,
   "sideBar": true,
   "skip_h1_title": false,
   "title_cell": "Table of Contents",
   "title_sidebar": "Contents",
   "toc_cell": false,
   "toc_position": {},
   "toc_section_display": true,
   "toc_window_display": false
  }
 },
 "nbformat": 4,
 "nbformat_minor": 5
}
