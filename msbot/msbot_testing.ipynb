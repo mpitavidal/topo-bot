{
 "cells": [
  {
   "cell_type": "code",
   "execution_count": 5,
   "id": "configured-nancy",
   "metadata": {
    "ExecuteTime": {
     "end_time": "2021-01-25T13:56:36.160948Z",
     "start_time": "2021-01-25T13:56:35.999967Z"
    }
   },
   "outputs": [],
   "source": [
    "import numpy as np\n",
    "\n",
    "import msbot\n",
    "import pymsteams"
   ]
  },
  {
   "cell_type": "code",
   "execution_count": 6,
   "id": "cathedral-switch",
   "metadata": {
    "ExecuteTime": {
     "end_time": "2021-01-25T13:56:36.929496Z",
     "start_time": "2021-01-25T13:56:36.926525Z"
    }
   },
   "outputs": [],
   "source": [
    "# You must create the connectorcard object with the Microsoft Webhook URL\n",
    "myTeamsMessage = pymsteams.connectorcard(\"https://tud365.webhook.office.com/webhookb2/b30f04eb-e52a-4b70-9920-d9e52953b8ca@096e524d-6929-4030-8cd3-8ab42de0887b/IncomingWebhook/9a32be74d528417c977d9771a224ad68/e21735a8-e851-494f-99ba-2e0e9cfe3b6d\")"
   ]
  },
  {
   "cell_type": "code",
   "execution_count": 7,
   "id": "completed-vaccine",
   "metadata": {
    "ExecuteTime": {
     "end_time": "2021-01-25T13:56:46.850914Z",
     "start_time": "2021-01-25T13:56:46.846936Z"
    }
   },
   "outputs": [],
   "source": [
    "# Add text to the message.\n",
    "myTeamsMessage.text(\"This is a test text\")"
   ]
  },
  {
   "cell_type": "code",
   "execution_count": 8,
   "id": "centered-fetish",
   "metadata": {
    "ExecuteTime": {
     "end_time": "2021-01-25T13:56:48.535987Z",
     "start_time": "2021-01-25T13:56:47.451598Z"
    }
   },
   "outputs": [
    {
     "data": {
      "text/plain": [
       "True"
      ]
     },
     "execution_count": 8,
     "metadata": {},
     "output_type": "execute_result"
    }
   ],
   "source": [
    "# send the message.\n",
    "myTeamsMessage.send()"
   ]
  },
  {
   "cell_type": "code",
   "execution_count": null,
   "id": "dated-anger",
   "metadata": {},
   "outputs": [],
   "source": []
  }
 ],
 "metadata": {
  "kernelspec": {
   "display_name": "cqed-env",
   "language": "python",
   "name": "cqed-env"
  },
  "language_info": {
   "codemirror_mode": {
    "name": "ipython",
    "version": 3
   },
   "file_extension": ".py",
   "mimetype": "text/x-python",
   "name": "python",
   "nbconvert_exporter": "python",
   "pygments_lexer": "ipython3",
   "version": "3.8.5"
  },
  "toc": {
   "base_numbering": 1,
   "nav_menu": {},
   "number_sections": true,
   "sideBar": true,
   "skip_h1_title": false,
   "title_cell": "Table of Contents",
   "title_sidebar": "Contents",
   "toc_cell": false,
   "toc_position": {},
   "toc_section_display": true,
   "toc_window_display": false
  }
 },
 "nbformat": 4,
 "nbformat_minor": 5
}
