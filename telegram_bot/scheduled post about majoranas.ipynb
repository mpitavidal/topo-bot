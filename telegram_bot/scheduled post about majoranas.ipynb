{
 "cells": [
  {
   "cell_type": "code",
   "execution_count": 1,
   "metadata": {},
   "outputs": [],
   "source": [
    "import pandas as pd\n",
    "import telegram_bot_job\n",
    "import schedule\n",
    "import time\n",
    "telegram_bot_job.bot_job()"
   ]
  },
  {
   "cell_type": "code",
   "execution_count": null,
   "metadata": {},
   "outputs": [
    {
     "name": "stderr",
     "output_type": "stream",
     "text": [
      "2021-01-27 10:10:59,973 - schedule - INFO - Running job Every 1 day at 10:10:00 do bot_job() (last run: [never], next run: 2021-01-27 10:10:00)\n"
     ]
    }
   ],
   "source": [
    "schedule.every().day.at(\"10:10\").do(telegram_bot_job.bot_job)\n",
    "while True:\n",
    "    schedule.run_pending()\n",
    "    time.sleep(60) # wait one minute"
   ]
  },
  {
   "cell_type": "code",
   "execution_count": null,
   "metadata": {},
   "outputs": [],
   "source": []
  }
 ],
 "metadata": {
  "kernelspec": {
   "display_name": "Python 3",
   "language": "python",
   "name": "python3"
  },
  "language_info": {
   "codemirror_mode": {
    "name": "ipython",
    "version": 3
   },
   "file_extension": ".py",
   "mimetype": "text/x-python",
   "name": "python",
   "nbconvert_exporter": "python",
   "pygments_lexer": "ipython3",
   "version": "3.8.5"
  }
 },
 "nbformat": 4,
 "nbformat_minor": 4
}
