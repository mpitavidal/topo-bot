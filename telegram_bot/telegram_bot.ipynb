{
 "cells": [
  {
   "cell_type": "code",
   "execution_count": 1,
   "metadata": {},
   "outputs": [],
   "source": [
    "path_arxiv_crawler = \"C:\\\\Users\\\\tesya\\\\OneDrive\\\\Документы\\\\GitHub\\\\arxiv_majorana_crawler\"\n",
    "import sys\n",
    "sys.path.append(path_arxiv_crawler)\n",
    "import fetch_arxiv\n",
    "import feedparser"
   ]
  },
  {
   "cell_type": "code",
   "execution_count": 2,
   "metadata": {},
   "outputs": [],
   "source": [
    "import datetime"
   ]
  },
  {
   "cell_type": "code",
   "execution_count": 3,
   "metadata": {},
   "outputs": [],
   "source": [
    "import pandas as pd\n",
    "QUERY_INPUT = 'C:\\\\Users\\\\tesya\\\\OneDrive\\\\Документы\\\\GitHub\\\\arxiv_majorana_crawler\\\\search_query_list.txt'"
   ]
  },
  {
   "cell_type": "code",
   "execution_count": null,
   "metadata": {},
   "outputs": [],
   "source": [
    "data_upd=fetch_arxiv.query_arxiv_org(query_input=QUERY_INPUT)"
   ]
  },
  {
   "cell_type": "code",
   "execution_count": 13,
   "metadata": {},
   "outputs": [
    {
     "data": {
      "text/plain": [
       "{'id': '2101.09958',\n",
       " 'author_list': 'Kyoung Hwan Choi, Dong Hack Suh',\n",
       " 'title': 'The Origin of Aromaticity: Aromatic Compounds as Intrinsic Topological Superconductors with Majorana Fermion',\n",
       " 'arxiv_primary_category': 'cond-mat.supr-con',\n",
       " 'published': '2021-01-25 08:56:25',\n",
       " 'link': 'http://arxiv.org/abs/2101.09958v1'}"
      ]
     },
     "execution_count": 13,
     "metadata": {},
     "output_type": "execute_result"
    }
   ],
   "source": [
    "#data_upd[1]"
   ]
  },
  {
   "cell_type": "code",
   "execution_count": 10,
   "metadata": {},
   "outputs": [
    {
     "data": {
      "text/html": [
       "<div>\n",
       "<style scoped>\n",
       "    .dataframe tbody tr th:only-of-type {\n",
       "        vertical-align: middle;\n",
       "    }\n",
       "\n",
       "    .dataframe tbody tr th {\n",
       "        vertical-align: top;\n",
       "    }\n",
       "\n",
       "    .dataframe thead th {\n",
       "        text-align: right;\n",
       "    }\n",
       "</style>\n",
       "<table border=\"1\" class=\"dataframe\">\n",
       "  <thead>\n",
       "    <tr style=\"text-align: right;\">\n",
       "      <th></th>\n",
       "      <th>id</th>\n",
       "      <th>author_list</th>\n",
       "      <th>title</th>\n",
       "      <th>arxiv_primary_category</th>\n",
       "      <th>published</th>\n",
       "      <th>link</th>\n",
       "    </tr>\n",
       "  </thead>\n",
       "  <tbody>\n",
       "    <tr>\n",
       "      <th>0</th>\n",
       "      <td>2101.10794</td>\n",
       "      <td>Juan Carlos Estrada Saldaña, Alexandros Vekris...</td>\n",
       "      <td>Bias asymmetric subgap states mimicking Majora...</td>\n",
       "      <td>cond-mat.mes-hall</td>\n",
       "      <td>2021-01-26 14:11:16</td>\n",
       "      <td>http://arxiv.org/abs/2101.10794v1</td>\n",
       "    </tr>\n",
       "    <tr>\n",
       "      <th>1</th>\n",
       "      <td>2101.09958</td>\n",
       "      <td>Kyoung Hwan Choi, Dong Hack Suh</td>\n",
       "      <td>The Origin of Aromaticity: Aromatic Compounds ...</td>\n",
       "      <td>cond-mat.supr-con</td>\n",
       "      <td>2021-01-25 08:56:25</td>\n",
       "      <td>http://arxiv.org/abs/2101.09958v1</td>\n",
       "    </tr>\n",
       "    <tr>\n",
       "      <th>2</th>\n",
       "      <td>2101.09882</td>\n",
       "      <td>Adhip Pattanayak, Sumiran Pujari, Gopal Dixit</td>\n",
       "      <td>Fingerprints of Majorana fermions in high-harm...</td>\n",
       "      <td>cond-mat.str-el</td>\n",
       "      <td>2021-01-25 03:57:50</td>\n",
       "      <td>http://arxiv.org/abs/2101.09882v1</td>\n",
       "    </tr>\n",
       "    <tr>\n",
       "      <th>3</th>\n",
       "      <td>2101.09272</td>\n",
       "      <td>Tong Zhou, Matthieu C. Dartiailh, Kasra Sardas...</td>\n",
       "      <td>Fusion of Majorana Bound States with Mini-Gate...</td>\n",
       "      <td>cond-mat.mes-hall</td>\n",
       "      <td>2021-01-22 18:52:13</td>\n",
       "      <td>http://arxiv.org/abs/2101.09272v2</td>\n",
       "    </tr>\n",
       "    <tr>\n",
       "      <th>4</th>\n",
       "      <td>2101.08799</td>\n",
       "      <td>Jonas F. Karcher, Matthew S. Foster</td>\n",
       "      <td>How spectrum-wide quantum criticality protects...</td>\n",
       "      <td>cond-mat.dis-nn</td>\n",
       "      <td>2021-01-21 19:00:07</td>\n",
       "      <td>http://arxiv.org/abs/2101.08799v1</td>\n",
       "    </tr>\n",
       "    <tr>\n",
       "      <th>...</th>\n",
       "      <td>...</td>\n",
       "      <td>...</td>\n",
       "      <td>...</td>\n",
       "      <td>...</td>\n",
       "      <td>...</td>\n",
       "      <td>...</td>\n",
       "    </tr>\n",
       "    <tr>\n",
       "      <th>2260</th>\n",
       "      <td>1412.0021</td>\n",
       "      <td>Yuval Baum, Thore Posske, Ion Cosma Fulga, Bjö...</td>\n",
       "      <td>Coexisting edge states and gapless bulk in top...</td>\n",
       "      <td>cond-mat.mes-hall</td>\n",
       "      <td>2014-11-28 21:00:07</td>\n",
       "      <td>http://arxiv.org/abs/1412.0021v1</td>\n",
       "    </tr>\n",
       "    <tr>\n",
       "      <th>2261</th>\n",
       "      <td>1409.7301</td>\n",
       "      <td>G. Tkachov, P. Burset, B. Trauzettel, E. M. Ha...</td>\n",
       "      <td>Quantum interference of edge supercurrents in ...</td>\n",
       "      <td>cond-mat.mes-hall</td>\n",
       "      <td>2014-09-25 15:37:01</td>\n",
       "      <td>http://arxiv.org/abs/1409.7301v4</td>\n",
       "    </tr>\n",
       "    <tr>\n",
       "      <th>2262</th>\n",
       "      <td>1406.7754</td>\n",
       "      <td>Stefan Juergens, Paolo Michetti, Björn Trauzettel</td>\n",
       "      <td>Screening properties and plasmons of Hg(Cd)Te ...</td>\n",
       "      <td>cond-mat.mes-hall</td>\n",
       "      <td>2014-06-30 14:24:36</td>\n",
       "      <td>http://arxiv.org/abs/1406.7754v2</td>\n",
       "    </tr>\n",
       "    <tr>\n",
       "      <th>2263</th>\n",
       "      <td>1406.7161</td>\n",
       "      <td>Pablo Burset, Felix Keidel, Yukio Tanaka, Naot...</td>\n",
       "      <td>Transport signatures of superconducting hybrid...</td>\n",
       "      <td>cond-mat.mes-hall</td>\n",
       "      <td>2014-06-27 12:09:09</td>\n",
       "      <td>http://arxiv.org/abs/1406.7161v1</td>\n",
       "    </tr>\n",
       "    <tr>\n",
       "      <th>2264</th>\n",
       "      <td>1403.1082</td>\n",
       "      <td>Florian Geissler, Francois Crépin, Björn Trauz...</td>\n",
       "      <td>Random Rashba spin-orbit coupling at the quant...</td>\n",
       "      <td>cond-mat.mes-hall</td>\n",
       "      <td>2014-03-05 11:28:22</td>\n",
       "      <td>http://arxiv.org/abs/1403.1082v2</td>\n",
       "    </tr>\n",
       "  </tbody>\n",
       "</table>\n",
       "<p>2265 rows × 6 columns</p>\n",
       "</div>"
      ],
      "text/plain": [
       "              id                                        author_list  \\\n",
       "0     2101.10794  Juan Carlos Estrada Saldaña, Alexandros Vekris...   \n",
       "1     2101.09958                    Kyoung Hwan Choi, Dong Hack Suh   \n",
       "2     2101.09882      Adhip Pattanayak, Sumiran Pujari, Gopal Dixit   \n",
       "3     2101.09272  Tong Zhou, Matthieu C. Dartiailh, Kasra Sardas...   \n",
       "4     2101.08799                Jonas F. Karcher, Matthew S. Foster   \n",
       "...          ...                                                ...   \n",
       "2260   1412.0021  Yuval Baum, Thore Posske, Ion Cosma Fulga, Bjö...   \n",
       "2261   1409.7301  G. Tkachov, P. Burset, B. Trauzettel, E. M. Ha...   \n",
       "2262   1406.7754  Stefan Juergens, Paolo Michetti, Björn Trauzettel   \n",
       "2263   1406.7161  Pablo Burset, Felix Keidel, Yukio Tanaka, Naot...   \n",
       "2264   1403.1082  Florian Geissler, Francois Crépin, Björn Trauz...   \n",
       "\n",
       "                                                  title  \\\n",
       "0     Bias asymmetric subgap states mimicking Majora...   \n",
       "1     The Origin of Aromaticity: Aromatic Compounds ...   \n",
       "2     Fingerprints of Majorana fermions in high-harm...   \n",
       "3     Fusion of Majorana Bound States with Mini-Gate...   \n",
       "4     How spectrum-wide quantum criticality protects...   \n",
       "...                                                 ...   \n",
       "2260  Coexisting edge states and gapless bulk in top...   \n",
       "2261  Quantum interference of edge supercurrents in ...   \n",
       "2262  Screening properties and plasmons of Hg(Cd)Te ...   \n",
       "2263  Transport signatures of superconducting hybrid...   \n",
       "2264  Random Rashba spin-orbit coupling at the quant...   \n",
       "\n",
       "     arxiv_primary_category           published  \\\n",
       "0         cond-mat.mes-hall 2021-01-26 14:11:16   \n",
       "1         cond-mat.supr-con 2021-01-25 08:56:25   \n",
       "2           cond-mat.str-el 2021-01-25 03:57:50   \n",
       "3         cond-mat.mes-hall 2021-01-22 18:52:13   \n",
       "4           cond-mat.dis-nn 2021-01-21 19:00:07   \n",
       "...                     ...                 ...   \n",
       "2260      cond-mat.mes-hall 2014-11-28 21:00:07   \n",
       "2261      cond-mat.mes-hall 2014-09-25 15:37:01   \n",
       "2262      cond-mat.mes-hall 2014-06-30 14:24:36   \n",
       "2263      cond-mat.mes-hall 2014-06-27 12:09:09   \n",
       "2264      cond-mat.mes-hall 2014-03-05 11:28:22   \n",
       "\n",
       "                                   link  \n",
       "0     http://arxiv.org/abs/2101.10794v1  \n",
       "1     http://arxiv.org/abs/2101.09958v1  \n",
       "2     http://arxiv.org/abs/2101.09882v1  \n",
       "3     http://arxiv.org/abs/2101.09272v2  \n",
       "4     http://arxiv.org/abs/2101.08799v1  \n",
       "...                                 ...  \n",
       "2260   http://arxiv.org/abs/1412.0021v1  \n",
       "2261   http://arxiv.org/abs/1409.7301v4  \n",
       "2262   http://arxiv.org/abs/1406.7754v2  \n",
       "2263   http://arxiv.org/abs/1406.7161v1  \n",
       "2264   http://arxiv.org/abs/1403.1082v2  \n",
       "\n",
       "[2265 rows x 6 columns]"
      ]
     },
     "execution_count": 10,
     "metadata": {},
     "output_type": "execute_result"
    }
   ],
   "source": [
    "\n",
    "data=pd.DataFrame(data_upd)\n",
    "def _convert_time(val):\n",
    "    date = datetime.datetime.strptime(val, \"%Y-%m-%d %H:%M:%S\")\n",
    "    return date\n",
    "data['published'] = data['published'].apply(_convert_time)\n"
   ]
  },
  {
   "cell_type": "code",
   "execution_count": 17,
   "metadata": {},
   "outputs": [
    {
     "data": {
      "text/plain": [
       "'Fingerprints of Majorana fermions in high-harmonic spectroscopy'"
      ]
     },
     "execution_count": 17,
     "metadata": {},
     "output_type": "execute_result"
    }
   ],
   "source": [
    "data.author_list[2]\n",
    "data.title[2]"
   ]
  },
  {
   "cell_type": "code",
   "execution_count": 8,
   "metadata": {},
   "outputs": [
    {
     "name": "stdout",
     "output_type": "stream",
     "text": [
      "{'id': {0: '2101.10794', 50: '2101.10604', 1124: '2101.10794', 1174: '2101.10601', 1175: '2101.10301', 1224: '2101.10601', 1647: '2101.10601'}, 'author_list': {0: 'Juan Carlos Estrada Saldaña, Alexandros Vekris, Luka Pavešič, Peter Krogstrup, Rok Žitko, Kasper Grove-Rasmussen, Jesper Nygård', 50: 'Rongqian Wang, Jincheng Lu, Jian-Hua Jiang', 1124: 'Juan Carlos Estrada Saldaña, Alexandros Vekris, Luka Pavešič, Peter Krogstrup, Rok Žitko, Kasper Grove-Rasmussen, Jesper Nygård', 1174: 'Hervé Ness, Ivan A. Sadovskyy, Andrey E. Antipov, Mark van Schilfgaarde, Roman M. Lutchyn', 1175: 'Katharina Laubscher, Clara S. Weber, Dante M. Kennes, Mikhail Pletyukhov, Herbert Schoeller, Daniel Loss, Jelena Klinovaja', 1224: 'Hervé Ness, Ivan A. Sadovskyy, Andrey E. Antipov, Mark van Schilfgaarde, Roman M. Lutchyn', 1647: 'Hervé Ness, Ivan A. Sadovskyy, Andrey E. Antipov, Mark van Schilfgaarde, Roman M. Lutchyn'}, 'title': {0: 'Bias asymmetric subgap states mimicking Majorana signatures', 50: 'Moderate-temperature near-field thermophotovoltaic systems with thin-film InSb cells', 1124: 'Bias asymmetric subgap states mimicking Majorana signatures', 1174: 'First principles supercurrent calculation in realistic magnetic Josephson junctions', 1175: 'Fractional boundary charges with quantized slopes in interacting one- and two-dimensional systems', 1224: 'First principles supercurrent calculation in realistic magnetic Josephson junctions', 1647: 'First principles supercurrent calculation in realistic magnetic Josephson junctions'}, 'arxiv_primary_category': {0: 'cond-mat.mes-hall', 50: 'physics.app-ph', 1124: 'cond-mat.mes-hall', 1174: 'cond-mat.mes-hall', 1175: 'cond-mat.mes-hall', 1224: 'cond-mat.mes-hall', 1647: 'cond-mat.mes-hall'}, 'published': {0: Timestamp('2021-01-26 14:11:16'), 50: Timestamp('2021-01-26 07:31:51'), 1124: Timestamp('2021-01-26 14:11:16'), 1174: Timestamp('2021-01-26 07:28:49'), 1175: Timestamp('2021-01-25 18:35:39'), 1224: Timestamp('2021-01-26 07:28:49'), 1647: Timestamp('2021-01-26 07:28:49')}, 'link': {0: 'http://arxiv.org/abs/2101.10794v1', 50: 'http://arxiv.org/abs/2101.10604v1', 1124: 'http://arxiv.org/abs/2101.10794v1', 1174: 'http://arxiv.org/abs/2101.10601v1', 1175: 'http://arxiv.org/abs/2101.10301v1', 1224: 'http://arxiv.org/abs/2101.10601v1', 1647: 'http://arxiv.org/abs/2101.10601v1'}}\n"
     ]
    }
   ],
   "source": [
    "\n",
    "now = datetime.datetime.now()\n",
    "delta = datetime.timedelta(days=2)\n",
    "# now - delta\n",
    "\n",
    "data_lastday = pd.DataFrame.to_dict(data.loc[data['published'] > (now - delta)])\n",
    "#print(data_lastday)\n",
    "author_list=data_lastday['author_list']\n",
    "titles=data_lastday['title']\n",
    "published = data_lastday['published']\n",
    "links=data_lastday['link']\n",
    "ids=data_lastday['id']\n",
    "arxiv_primary_categories=data_lastday['arxiv_primary_category']\n",
    "telegram_text=\" \"\n",
    "for i in list(ids):\n",
    "    telegram_text=telegram_text+ published[i].strftime(\"%m/%d/%Y\")+ \"\\n \\n\"+\"'\"+ titles[i]+ \"'\" +\"\\n \\n\"+author_list[i]+\"\\n\"+links[i]+\"\\n\"+arxiv_primary_categories[i] +\"\\n \\n \\n\""
   ]
  },
  {
   "cell_type": "code",
   "execution_count": 11,
   "metadata": {},
   "outputs": [],
   "source": [
    "import telegram \n",
    "from telegram.ext import Updater\n",
    "updater = Updater(token='1598945607:AAGpjZu4t7zh4Mok6baddPQ9KxZZ2ngnCbk', use_context=True)\n",
    "dispatcher = updater.dispatcher\n",
    "import logging\n",
    "logging.basicConfig(format='%(asctime)s - %(name)s - %(levelname)s - %(message)s',\n",
    "                     level=logging.INFO)\n",
    "bot = telegram.Bot(token='1598945607:AAGpjZu4t7zh4Mok6baddPQ9KxZZ2ngnCbk')"
   ]
  },
  {
   "cell_type": "code",
   "execution_count": 12,
   "metadata": {},
   "outputs": [
    {
     "data": {
      "text/plain": [
       "<telegram.message.Message at 0x1f77c18c190>"
      ]
     },
     "execution_count": 12,
     "metadata": {},
     "output_type": "execute_result"
    }
   ],
   "source": [
    "bot.sendMessage(chat_id='@openmajoranachannel', text=telegram_text)"
   ]
  },
  {
   "cell_type": "code",
   "execution_count": null,
   "metadata": {},
   "outputs": [],
   "source": []
  }
 ],
 "metadata": {
  "kernelspec": {
   "display_name": "Python 3",
   "language": "python",
   "name": "python3"
  },
  "language_info": {
   "codemirror_mode": {
    "name": "ipython",
    "version": 3
   },
   "file_extension": ".py",
   "mimetype": "text/x-python",
   "name": "python",
   "nbconvert_exporter": "python",
   "pygments_lexer": "ipython3",
   "version": "3.8.5"
  }
 },
 "nbformat": 4,
 "nbformat_minor": 4
}
