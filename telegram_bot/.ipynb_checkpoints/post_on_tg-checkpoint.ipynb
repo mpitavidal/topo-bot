{
 "cells": [
  {
   "cell_type": "code",
   "execution_count": 30,
   "metadata": {},
   "outputs": [],
   "source": [
    "import telegram \n",
    "import pandas as pd\n",
    "from telegram.ext import Updater\n",
    "def post_the_message():\n",
    "    updater = Updater(token='1598945607:AAGpjZu4t7zh4Mok6baddPQ9KxZZ2ngnCbk', use_context=True)\n",
    "    dispatcher = updater.dispatcher\n",
    "    import logging\n",
    "    logging.basicConfig(format='%(asctime)s - %(name)s - %(levelname)s - %(message)s',\n",
    "                         level=logging.INFO)\n",
    "    bot = telegram.Bot(token='1598945607:AAGpjZu4t7zh4Mok6baddPQ9KxZZ2ngnCbk')\n",
    "    database = '..\\data_lastday.pkl'\n",
    "    data_lastday = pd.read_pickle(database)\n",
    "    author_list=data_lastday['author_list']\n",
    "    titles=data_lastday['title']\n",
    "    published = data_lastday['published']\n",
    "    links=data_lastday['link']\n",
    "    ids=data_lastday['id']\n",
    "    arxiv_primary_categories=data_lastday['arxiv_primary_category']\n",
    "    telegram_text=\" \"\n",
    "    for i in list(ids):\n",
    "        telegram_text=telegram_text+ published[i].strftime(\"%m/%d/%Y\")+ \"\\n \\n\"+\"'\"+ titles[i]+ \"'\" +\"\\n \\n\"+author_list[i]+\"\\n\"+links[i]+\"\\n\"+arxiv_primary_categories[i] +\"\\n \\n \\n\"\n",
    "        bot.sendMessage(chat_id='@openmajoranachannel', text=telegram_text)\n",
    "    return "
   ]
  }
 ],
 "metadata": {
  "kernelspec": {
   "display_name": "Python 3",
   "language": "python",
   "name": "python3"
  },
  "language_info": {
   "codemirror_mode": {
    "name": "ipython",
    "version": 3
   },
   "file_extension": ".py",
   "mimetype": "text/x-python",
   "name": "python",
   "nbconvert_exporter": "python",
   "pygments_lexer": "ipython3",
   "version": "3.8.5"
  }
 },
 "nbformat": 4,
 "nbformat_minor": 4
}
