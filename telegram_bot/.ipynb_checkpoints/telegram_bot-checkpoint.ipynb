{
 "cells": [
  {
   "cell_type": "code",
   "execution_count": 2,
   "metadata": {},
   "outputs": [],
   "source": [
    "path_arxiv_crawler = \"C:\\\\Users\\\\tesya\\\\OneDrive\\\\Документы\\\\GitHub\\\\arxiv_majorana_crawler\"\n",
    "import sys\n",
    "sys.path.append(path_arxiv_crawler)\n",
    "import fetch_arxiv\n",
    "import feedparser"
   ]
  },
  {
   "cell_type": "code",
   "execution_count": 3,
   "metadata": {},
   "outputs": [],
   "source": [
    "import datetime"
   ]
  },
  {
   "cell_type": "code",
   "execution_count": 4,
   "metadata": {},
   "outputs": [],
   "source": [
    "import pandas as pd\n",
    "QUERY_INPUT = 'C:\\\\Users\\\\tesya\\\\OneDrive\\\\Документы\\\\GitHub\\\\arxiv_majorana_crawler\\\\search_query_list.txt'"
   ]
  },
  {
   "cell_type": "code",
   "execution_count": 5,
   "metadata": {},
   "outputs": [],
   "source": [
    "data_upd=fetch_arxiv.query_arxiv_org(query_input=QUERY_INPUT)"
   ]
  },
  {
   "cell_type": "code",
   "execution_count": 13,
   "metadata": {},
   "outputs": [],
   "source": [
    "data=pd.DataFrame(data_upd)\n",
    "def _convert_time(val):\n",
    "    date = datetime.datetime.strptime(val, \"%Y-%m-%d %H:%M:%S\")\n",
    "    return date\n",
    "data['published'] = data['published'].apply(_convert_time)"
   ]
  },
  {
   "cell_type": "code",
   "execution_count": 75,
   "metadata": {},
   "outputs": [],
   "source": [
    "\n",
    "now = datetime.datetime.now()\n",
    "delta = datetime.timedelta(days=2)\n",
    "# now - delta\n",
    "\n",
    "data_lastday = pd.DataFrame.to_dict(data.loc[data['published'] > (now - delta)])\n",
    "author_list=data_lastday['author_list']\n",
    "titles=data_lastday['title']\n",
    "published = data_lastday['published']\n",
    "links=data_lastday['link']\n",
    "ids=data_lastday['id']\n",
    "arxiv_primary_categories=data_lastday['arxiv_primary_category']\n",
    "telegram_text=\" \"\n",
    "for i in list(ids):\n",
    "    telegram_text=telegram_text+ published[i].strftime(\"%m/%d/%Y\")+ \"\\n \\n\"+\"'\"+ titles[i]+ \"'\" +\"\\n \\n\"+author_list[i]+\"\\n\"+links[i]+\"\\n\"+arxiv_primary_categories[i] +\"\\n \\n \\n\""
   ]
  },
  {
   "cell_type": "code",
   "execution_count": 73,
   "metadata": {},
   "outputs": [],
   "source": [
    "import telegram \n",
    "from telegram.ext import Updater\n",
    "updater = Updater(token='1598945607:AAGpjZu4t7zh4Mok6baddPQ9KxZZ2ngnCbk', use_context=True)\n",
    "dispatcher = updater.dispatcher\n",
    "import logging\n",
    "logging.basicConfig(format='%(asctime)s - %(name)s - %(levelname)s - %(message)s',\n",
    "                     level=logging.INFO)\n",
    "bot = telegram.Bot(token='1598945607:AAGpjZu4t7zh4Mok6baddPQ9KxZZ2ngnCbk')"
   ]
  },
  {
   "cell_type": "code",
   "execution_count": 74,
   "metadata": {},
   "outputs": [
    {
     "data": {
      "text/plain": [
       "<telegram.message.Message at 0x210bb2f24f0>"
      ]
     },
     "execution_count": 74,
     "metadata": {},
     "output_type": "execute_result"
    }
   ],
   "source": [
    "bot.sendMessage(chat_id='@openmajoranachannel', text=telegram_text)"
   ]
  },
  {
   "cell_type": "code",
   "execution_count": null,
   "metadata": {},
   "outputs": [],
   "source": []
  }
 ],
 "metadata": {
  "kernelspec": {
   "display_name": "Python 3",
   "language": "python",
   "name": "python3"
  },
  "language_info": {
   "codemirror_mode": {
    "name": "ipython",
    "version": 3
   },
   "file_extension": ".py",
   "mimetype": "text/x-python",
   "name": "python",
   "nbconvert_exporter": "python",
   "pygments_lexer": "ipython3",
   "version": "3.8.5"
  }
 },
 "nbformat": 4,
 "nbformat_minor": 4
}
