{
 "cells": [
  {
   "cell_type": "code",
   "execution_count": null,
   "metadata": {},
   "outputs": [],
   "source": [
    "import telebot\n",
    "bot = telebot.TeleBot(\"1598945607:AAETzYUAbpNv9tB-WlSQ89GaDARhHaSsfAc\")\n",
    "@bot.message_handler(commands=['start'])\n",
    "def handle_command(message):\n",
    "    bot.reply_to(message, \"Daily inspiration about topological quantum computing\")\n",
    "@bot.message_handler(commands=['news'])\n",
    "def handle_command(message):\n",
    "    bot.reply_to(message, \"https://arxiv.org/abs/2004.11385\")\n",
    "    \n",
    "bot.polling()"
   ]
  },
  {
   "cell_type": "code",
   "execution_count": null,
   "metadata": {},
   "outputs": [],
   "source": []
  }
 ],
 "metadata": {
  "kernelspec": {
   "display_name": "Python 3",
   "language": "python",
   "name": "python3"
  },
  "language_info": {
   "codemirror_mode": {
    "name": "ipython",
    "version": 3
   },
   "file_extension": ".py",
   "mimetype": "text/x-python",
   "name": "python",
   "nbconvert_exporter": "python",
   "pygments_lexer": "ipython3",
   "version": "3.8.5"
  }
 },
 "nbformat": 4,
 "nbformat_minor": 4
}
